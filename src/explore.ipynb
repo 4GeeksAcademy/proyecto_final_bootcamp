{
    "cells": [
        {
            "cell_type": "markdown",
            "metadata": {},
            "source": [
                "# Explore here"
            ]
        },
        {
            "cell_type": "code",
            "execution_count": 3,
            "metadata": {},
            "outputs": [],
            "source": [
                "import pandas as pd\n",
                "import numpy as np \n",
                "import matplotlib.pyplot as plt\n",
                "import tensorflow\n",
                "from transformers import BertTokenizer, BertModel\n",
                "import torch\n",
                "# import presidio_anonymizer"
            ]
        },
        {
            "cell_type": "code",
            "execution_count": 4,
            "metadata": {},
            "outputs": [
                {
                    "name": "stdout",
                    "output_type": "stream",
                    "text": [
                        "Que me colapse el celebro ya hombre. I cant more\n",
                        "Más pruebas 😔 quiero morirme. A ver si me estalla el vasco de una vez!!!🩷😸🤣\n",
                        "Menudo rollo\n",
                        "Estoy programando\n"
                    ]
                }
            ],
            "source": [
                "def get_tweets(username):\n",
                "    import requests\n",
                "\n",
                "    url = \"https://twitter154.p.rapidapi.com/user/tweets\"\n",
                "    querystring = {\"username\":username,\"limit\":\"40\",\"include_replies\":\"false\",\"include_pinned\":\"false\"}\n",
                "\n",
                "    headers = {\n",
                "        \"X-RapidAPI-Key\": \"2d81fff92fmshabd59ce014ca6fdp18cdcejsnd8538a3ed03a\",\n",
                "        \"X-RapidAPI-Host\": \"twitter154.p.rapidapi.com\"\n",
                "    }\n",
                "\n",
                "    response = requests.get(url, headers=headers, params=querystring)\n",
                "\n",
                "    # Verificacion de la solicitud\n",
                "    if response.status_code == 200:\n",
                "        tweets = response.json()\n",
                "        # Imprimir cada tweet para verificar el contenido\n",
                "        for tweet in tweets['results']:\n",
                "            print(tweet['text'])\n",
                "    else:\n",
                "        print(\"Error en la solicitud:\", response.status_code, response.text)\n",
                "\n",
                "# Llamar a la función con el nombre de usuario deseado\n",
                "get_tweets('DavescrzyParrot')\n"
            ]
        },
        {
            "cell_type": "code",
            "execution_count": null,
            "metadata": {},
            "outputs": [],
            "source": []
        }
    ],
    "metadata": {
        "kernelspec": {
            "display_name": "Python 3.8.13 64-bit ('3.8.13')",
            "language": "python",
            "name": "python3"
        },
        "language_info": {
            "codemirror_mode": {
                "name": "ipython",
                "version": 3
            },
            "file_extension": ".py",
            "mimetype": "text/x-python",
            "name": "python",
            "nbconvert_exporter": "python",
            "pygments_lexer": "ipython3",
            "version": "3.12.2"
        },
        "orig_nbformat": 4,
        "vscode": {
            "interpreter": {
                "hash": "110cc1dee26208153f2972f08a2ad52b6a56238dc66d48e87fb757ef2996db56"
            }
        }
    },
    "nbformat": 4,
    "nbformat_minor": 2
}
